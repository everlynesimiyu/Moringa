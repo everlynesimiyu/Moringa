{
 "cells": [
  {
   "cell_type": "code",
   "execution_count": 31,
   "id": "d843b4ef-21ca-472d-8322-822bc6bc75f3",
   "metadata": {
    "tags": []
   },
   "outputs": [
    {
     "ename": "SyntaxError",
     "evalue": "invalid syntax (3766651504.py, line 2)",
     "output_type": "error",
     "traceback": [
      "\u001b[1;36m  Cell \u001b[1;32mIn[31], line 2\u001b[1;36m\u001b[0m\n\u001b[1;33m    * a collection of items in a particular order\u001b[0m\n\u001b[1;37m        ^\u001b[0m\n\u001b[1;31mSyntaxError\u001b[0m\u001b[1;31m:\u001b[0m invalid syntax\n"
     ]
    }
   ],
   "source": [
    "\n",
    "## list\n",
    "* a collection of items in a particular order\n",
    "* can include strings, floats, integr=ers and any other data types including a list\n",
    "* you can add anything in a list, and the items in your list they dont have to be related in a particular way\n",
    "* use square brackets ```[]``` to indicate a list and individual items in the list are separated by commas\n",
    "**syntax**```[item_1, item_2, item_3]```\n",
    "\n"
   ]
  },
  {
   "cell_type": "code",
   "execution_count": 32,
   "id": "090aa834-e50b-4180-9f8d-866e100d613c",
   "metadata": {
    "tags": []
   },
   "outputs": [
    {
     "name": "stdout",
     "output_type": "stream",
     "text": [
      "['mango', 'Banana', 'Apple']\n"
     ]
    }
   ],
   "source": [
    "# example\n",
    "fruits = [\"mango\",\"Banana\", \"Apple\"]\n",
    "print(fruits)"
   ]
  },
  {
   "cell_type": "code",
   "execution_count": null,
   "id": "2051f234-f762-419b-97be-7edb7529241f",
   "metadata": {},
   "outputs": [],
   "source": [
    "phone_no = [245673, 24378,245123]\n"
   ]
  },
  {
   "cell_type": "markdown",
   "id": "db7173fb-dd11-437a-b7b7-978e86166a7e",
   "metadata": {},
   "source": [
    "### Accessing items in a list\n",
    "2 * list are ordered collection ie you can access individual items in a list by telling python the position of that item in a list\n",
    "3 * the position of an item in a list reffered to as index\n",
    "4 *syntax to access items in a list"
   ]
  },
  {
   "cell_type": "code",
   "execution_count": 4,
   "id": "95df8650-7da3-4052-b8f0-3218eebd312c",
   "metadata": {
    "tags": []
   },
   "outputs": [
    {
     "name": "stdout",
     "output_type": "stream",
     "text": [
      "['mango', 'Banana', 'Apple']\n"
     ]
    }
   ],
   "source": [
    "# using fruit list\n",
    "print(fruits)"
   ]
  },
  {
   "cell_type": "code",
   "execution_count": 6,
   "id": "08a19857-c948-43c5-9fc1-25f0e3258ddc",
   "metadata": {
    "tags": []
   },
   "outputs": [
    {
     "name": "stdout",
     "output_type": "stream",
     "text": [
      "Banana\n"
     ]
    }
   ],
   "source": [
    "# access banana\n",
    "fruits[1]\n",
    "print(fruits[1])"
   ]
  },
  {
   "cell_type": "markdown",
   "id": "0d3c4678-0d4a-4d67-b166-19d20f35c20f",
   "metadata": {},
   "source": [
    "* index positions start at **0**, not ``1``"
   ]
  },
  {
   "cell_type": "code",
   "execution_count": 11,
   "id": "88102d10-f600-45b6-996e-2ed300fbb8bd",
   "metadata": {
    "tags": []
   },
   "outputs": [
    {
     "name": "stdout",
     "output_type": "stream",
     "text": [
      "APPLE\n"
     ]
    }
   ],
   "source": [
    "# change case\n",
    "print(fruits[2].upper())"
   ]
  },
  {
   "cell_type": "code",
   "execution_count": 9,
   "id": "a1253b03-4396-4cc7-aaf1-93a7bf548e30",
   "metadata": {
    "tags": []
   },
   "outputs": [
    {
     "name": "stdout",
     "output_type": "stream",
     "text": [
      "Apple\n"
     ]
    }
   ],
   "source": [
    "print(fruits[-1])"
   ]
  },
  {
   "cell_type": "code",
   "execution_count": 10,
   "id": "1d99dafb-6cd4-43d6-94cb-54b50c95fa9d",
   "metadata": {
    "tags": []
   },
   "outputs": [
    {
     "name": "stdout",
     "output_type": "stream",
     "text": [
      "Banana\n"
     ]
    }
   ],
   "source": [
    "print(fruits[-2])"
   ]
  },
  {
   "cell_type": "code",
   "execution_count": 14,
   "id": "4356c838-42a5-449a-a57c-c651542575b0",
   "metadata": {
    "tags": []
   },
   "outputs": [
    {
     "name": "stdout",
     "output_type": "stream",
     "text": [
      "Everlyne likes[-1], especially the green ones.\n"
     ]
    }
   ],
   "source": [
    "# using individual items in a list\n",
    "print(fruits[-1])"
   ]
  },
  {
   "cell_type": "code",
   "execution_count": 19,
   "id": "859f682f-31b2-47e9-b987-bfe468a966a0",
   "metadata": {
    "tags": []
   },
   "outputs": [
    {
     "name": "stdout",
     "output_type": "stream",
     "text": [
      "Everlyne likes both mangos and Apples,\n"
     ]
    }
   ],
   "source": [
    "message_2 = f\"Everlyne likes both {fruits[0]}s and {fruits[2]}s,\"\n",
    "print(message_2)"
   ]
  },
  {
   "cell_type": "code",
   "execution_count": null,
   "id": "c9781f4c-e574-4fb5-9deb-06ab4d709bae",
   "metadata": {},
   "outputs": [],
   "source": [
    "### Modifying, Adding and Remoting Elements in a list 1\n",
    "* Lists are dynamic, i.e. most of the lists you will create ,you will add items, change items, remove items and delete the entire list"
   ]
  },
  {
   "cell_type": "code",
   "execution_count": 17,
   "id": "3a6df7a2-c341-45b6-a0ba-b2223592bd39",
   "metadata": {
    "tags": []
   },
   "outputs": [
    {
     "name": "stdout",
     "output_type": "stream",
     "text": [
      "['Supreme', 'High coat']\n"
     ]
    }
   ],
   "source": [
    "# modifying items in a list\n",
    "courts = [\"Supreme\", \"High coat\"]\n",
    "print(courts)"
   ]
  },
  {
   "cell_type": "code",
   "execution_count": 18,
   "id": "7ca23b54-1790-4498-9f7d-82d4ad7b64e3",
   "metadata": {
    "tags": []
   },
   "outputs": [
    {
     "name": "stdout",
     "output_type": "stream",
     "text": [
      "['Supreme', 'High Court']\n"
     ]
    }
   ],
   "source": [
    "# modifying elements in a list\n",
    "courts[1] = \"High Court\"\n",
    "print(courts)"
   ]
  },
  {
   "cell_type": "code",
   "execution_count": 20,
   "id": "46ce548f-f453-4dd4-9e35-f83ae17ec7c1",
   "metadata": {
    "tags": []
   },
   "outputs": [
    {
     "name": "stdout",
     "output_type": "stream",
     "text": [
      "['Supreme', 'High Court', 'Magistrates Court']\n"
     ]
    }
   ],
   "source": [
    "# adding items to list - introducing new items to the list\n",
    "\n",
    "#1.adding elements at the end of a list .append (item)\n",
    "courts.append(\"Magistrates Court\")\n",
    "print(courts)"
   ]
  },
  {
   "cell_type": "code",
   "execution_count": 21,
   "id": "805d6e29-ca89-40cf-adca-8c2cf05b9124",
   "metadata": {
    "tags": []
   },
   "outputs": [
    {
     "name": "stdout",
     "output_type": "stream",
     "text": [
      "['mango', 'Banana', 'Apple', 'Paw paw']\n"
     ]
    }
   ],
   "source": [
    "# eg\n",
    "fruits.append('Paw paw')\n",
    "print(fruits)"
   ]
  },
  {
   "cell_type": "code",
   "execution_count": 22,
   "id": "3692ab53-809f-44ff-adfc-a09f41e91e7c",
   "metadata": {
    "tags": []
   },
   "outputs": [
    {
     "name": "stdout",
     "output_type": "stream",
     "text": [
      "['Supreme', 'Court of Appeal', 'High Court', 'Magistrates Court']\n"
     ]
    }
   ],
   "source": [
    "# insert an item into a list at specific position\n",
    "#syntax .insert(index)\n",
    "courts.insert(1, \"Court of Appeal\")\n",
    "print(courts)"
   ]
  },
  {
   "cell_type": "code",
   "execution_count": 26,
   "id": "2a0c7219-ca79-4fe2-ba63-03f409416e9d",
   "metadata": {
    "tags": []
   },
   "outputs": [
    {
     "name": "stdout",
     "output_type": "stream",
     "text": [
      "['mango', 'Banana', 'Apple']\n"
     ]
    }
   ],
   "source": [
    "# removing items in a list\n",
    "\n",
    "#1. using .pop() to remove an item at the end of a list\n",
    "fruits.pop()\n",
    "print(fruits)"
   ]
  },
  {
   "cell_type": "code",
   "execution_count": 27,
   "id": "4b729d2a-9233-4de0-8eed-99e63d81aa28",
   "metadata": {
    "tags": []
   },
   "outputs": [
    {
     "name": "stdout",
     "output_type": "stream",
     "text": [
      "['Banana', 'Apple']\n"
     ]
    }
   ],
   "source": [
    "#2. use .pop(index) to remove an item at a particular position\n",
    "fruits.pop(0)\n",
    "print(fruits)"
   ]
  },
  {
   "cell_type": "code",
   "execution_count": 29,
   "id": "701021c0-5199-408c-8da9-d06a9f2e87af",
   "metadata": {
    "tags": []
   },
   "outputs": [
    {
     "name": "stdout",
     "output_type": "stream",
     "text": [
      "['Banana']\n"
     ]
    }
   ],
   "source": [
    "#3. use .remove(item_value) to remove item by value\n",
    "fruits.remove(\"Apple\")\n",
    "print(fruits)"
   ]
  },
  {
   "cell_type": "code",
   "execution_count": 30,
   "id": "3e052628-1f7c-4319-b5e3-0aa651e4c84b",
   "metadata": {
    "tags": []
   },
   "outputs": [
    {
     "name": "stdout",
     "output_type": "stream",
     "text": [
      "[]\n"
     ]
    }
   ],
   "source": [
    "# using del statement to remove item in a list\n",
    "# syntax del list_name[index]\n",
    "del fruits[0]\n",
    "print (fruits)"
   ]
  },
  {
   "cell_type": "code",
   "execution_count": null,
   "id": "e0bed671-b138-4289-8e48-3eed79ec4698",
   "metadata": {},
   "outputs": [],
   "source": []
  }
 ],
 "metadata": {
  "kernelspec": {
   "display_name": "Python 3 (ipykernel)",
   "language": "python",
   "name": "python3"
  },
  "language_info": {
   "codemirror_mode": {
    "name": "ipython",
    "version": 3
   },
   "file_extension": ".py",
   "mimetype": "text/x-python",
   "name": "python",
   "nbconvert_exporter": "python",
   "pygments_lexer": "ipython3",
   "version": "3.11.3"
  }
 },
 "nbformat": 4,
 "nbformat_minor": 5
}
