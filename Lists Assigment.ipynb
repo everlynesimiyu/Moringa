{
 "cells": [
  {
   "cell_type": "code",
   "execution_count": 1,
   "id": "2ed6cef9-32fe-4231-8ba7-ed11be829ddb",
   "metadata": {},
   "outputs": [
    {
     "name": "stdout",
     "output_type": "stream",
     "text": [
      "['Croatia', 'USA', 'Argentina', 'Mexico', 'USA', 'Morocco', 'New Mexico', 'Finland', 'Argentina', 'Italy', 'Canada', 'South Korea']\n"
     ]
    }
   ],
   "source": [
    "# List of Countries\n",
    "countries = ['Croatia',\n",
    "\n",
    "'USA',\n",
    "\n",
    "'Argentina',\n",
    "\n",
    "'Mexico',\n",
    "\n",
    "'USA',\n",
    "\n",
    "'Morocco',\n",
    "\n",
    "'New Mexico',\n",
    "\n",
    "'Finland',\n",
    "\n",
    "'Argentina',\n",
    "\n",
    "'Italy',\n",
    "\n",
    "'Canada',\n",
    "\n",
    "'South Korea']\n",
    "print(countries)"
   ]
  },
  {
   "cell_type": "code",
   "execution_count": 2,
   "id": "733328ba-7c1a-4a28-8885-f88786167d7f",
   "metadata": {
    "tags": []
   },
   "outputs": [
    {
     "name": "stdout",
     "output_type": "stream",
     "text": [
      "Italy\n"
     ]
    }
   ],
   "source": [
    "# setting the variable itally to be equal to the 3rd last element\n",
    "itally = countries[9]\n",
    "print(itally)"
   ]
  },
  {
   "cell_type": "code",
   "execution_count": 3,
   "id": "baeaab76-668e-4ff2-8dca-5c11c362cfff",
   "metadata": {},
   "outputs": [
    {
     "name": "stdout",
     "output_type": "stream",
     "text": [
      "Mexico\n"
     ]
    }
   ],
   "source": [
    "# accessing the 4th element and setting it equal to the variable mexico\n",
    "mexico = countries[3]\n",
    "print(mexico)"
   ]
  },
  {
   "cell_type": "code",
   "execution_count": 4,
   "id": "90f19a9a-df4a-44c7-85a6-5390baba74dd",
   "metadata": {
    "tags": []
   },
   "outputs": [
    {
     "name": "stdout",
     "output_type": "stream",
     "text": [
      "USA\n"
     ]
    }
   ],
   "source": [
    "# second through fifth elements\n",
    "kindof_neighbors = countries[1]\n",
    "print(kindof_neighbors)"
   ]
  },
  {
   "cell_type": "code",
   "execution_count": 5,
   "id": "0332a648-b901-46c7-ba6b-beb37a1c7fea",
   "metadata": {
    "tags": []
   },
   "outputs": [
    {
     "name": "stdout",
     "output_type": "stream",
     "text": [
      "['Croatia', 'USA', 'Argentina', 'Mexico', 'USA', 'Morocco', 'New Mexico', 'Finland', 'Argentina', 'Italy', 'Canada', 'South Korea', 'Malta']\n"
     ]
    }
   ],
   "source": [
    "# adding malta on the list of countries\n",
    "countries.append('Malta')\n",
    "print(countries)"
   ]
  },
  {
   "cell_type": "code",
   "execution_count": 6,
   "id": "cd2e5b46-6284-4373-997b-44c89fdd0886",
   "metadata": {
    "tags": []
   },
   "outputs": [
    {
     "name": "stdout",
     "output_type": "stream",
     "text": [
      "['Croatia', 'USA', 'Argentina', 'Mexico', 'USA', 'Morocco', 'New Mexico', 'Finland', 'Argentina', 'Italy', 'Canada', 'South Korea', 'Malta', 'Thailand']\n"
     ]
    }
   ],
   "source": [
    "# Adding Thailand on the list of countries\n",
    "countries.append('Thailand')\n",
    "print(countries)"
   ]
  },
  {
   "cell_type": "code",
   "execution_count": 7,
   "id": "23bfde77-ab6d-41f1-9ef7-0f8cd306b73d",
   "metadata": {
    "tags": []
   },
   "outputs": [
    {
     "name": "stdout",
     "output_type": "stream",
     "text": [
      "['Croatia', 'USA', 'Argentina', 'Mexico', 'USA', 'Morocco', 'USA', 'Finland', 'Argentina', 'Italy', 'Canada', 'South Korea', 'Malta', 'Thailand']\n"
     ]
    }
   ],
   "source": [
    "# changing new Mexico to USA\n",
    "countries[6] = 'USA'\n",
    "print(countries)"
   ]
  },
  {
   "cell_type": "code",
   "execution_count": 8,
   "id": "79b14274-954e-47d6-a46b-4d07f027919a",
   "metadata": {
    "tags": []
   },
   "outputs": [
    {
     "name": "stdout",
     "output_type": "stream",
     "text": [
      "['Croatia', 'USA', 'Argentina', 'Mexico', 'USA', 'Morocco', 'USA', 'Finland', 'Argentina', 'Italy', 'Canada', 'South Korea', 'Malta']\n"
     ]
    }
   ],
   "source": [
    "# removing Thailand from the list\n",
    "countries.pop()\n",
    "print(countries)"
   ]
  },
  {
   "cell_type": "code",
   "execution_count": 9,
   "id": "251269b0-17e1-4aad-83ab-782bab72a76b",
   "metadata": {
    "tags": []
   },
   "outputs": [
    {
     "name": "stdout",
     "output_type": "stream",
     "text": [
      "{'USA', 'Canada', 'Mexico', 'Finland', 'Morocco', 'Croatia', 'Malta', 'Italy', 'South Korea', 'Argentina'}\n"
     ]
    }
   ],
   "source": [
    "# using set and list functions\n",
    "unique_countries = (set(countries))\n",
    "print(unique_countries)"
   ]
  },
  {
   "cell_type": "code",
   "execution_count": 10,
   "id": "4111c8f1-768e-4aaa-bc4b-d44018675ccd",
   "metadata": {
    "tags": []
   },
   "outputs": [
    {
     "data": {
      "text/plain": [
       "13"
      ]
     },
     "execution_count": 10,
     "metadata": {},
     "output_type": "execute_result"
    }
   ],
   "source": [
    "len(countries)"
   ]
  },
  {
   "cell_type": "code",
   "execution_count": 11,
   "id": "e6311510-5d38-4e2a-946d-2d4ae6309f63",
   "metadata": {
    "tags": []
   },
   "outputs": [
    {
     "data": {
      "text/plain": [
       "10"
      ]
     },
     "execution_count": 11,
     "metadata": {},
     "output_type": "execute_result"
    }
   ],
   "source": [
    "len(unique_countries)"
   ]
  },
  {
   "cell_type": "code",
   "execution_count": 12,
   "id": "7cafa7fe-e9cb-4c49-9598-73ce7ef58eb4",
   "metadata": {
    "tags": []
   },
   "outputs": [
    {
     "name": "stdout",
     "output_type": "stream",
     "text": [
      "3\n"
     ]
    }
   ],
   "source": [
    "# difference between countries and unique_countries\n",
    "number_of_repeats =len(countries)-len(unique_countries)\n",
    "print(number_of_repeats)"
   ]
  },
  {
   "cell_type": "code",
   "execution_count": null,
   "id": "f9ea8121-2126-4623-adc8-d1af6d71bef4",
   "metadata": {},
   "outputs": [],
   "source": []
  }
 ],
 "metadata": {
  "kernelspec": {
   "display_name": "Python 3 (ipykernel)",
   "language": "python",
   "name": "python3"
  },
  "language_info": {
   "codemirror_mode": {
    "name": "ipython",
    "version": 3
   },
   "file_extension": ".py",
   "mimetype": "text/x-python",
   "name": "python",
   "nbconvert_exporter": "python",
   "pygments_lexer": "ipython3",
   "version": "3.11.3"
  }
 },
 "nbformat": 4,
 "nbformat_minor": 5
}
