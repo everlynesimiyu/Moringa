{
 "cells": [
  {
   "cell_type": "code",
   "execution_count": 1,
   "id": "c0ba3fd3-d60e-4f7f-945e-c81a92d2dfbf",
   "metadata": {
    "tags": []
   },
   "outputs": [
    {
     "name": "stdout",
     "output_type": "stream",
     "text": [
      "1\n"
     ]
    }
   ],
   "source": [
    "# leave days\n",
    "leave_days = 0\n",
    "leave_days = leave_days + 1\n",
    "print(leave_days)"
   ]
  },
  {
   "cell_type": "code",
   "execution_count": 2,
   "id": "5d672a34-280f-496d-b84b-70dc8c5bbfc4",
   "metadata": {
    "tags": []
   },
   "outputs": [
    {
     "name": "stdout",
     "output_type": "stream",
     "text": [
      "1\n"
     ]
    }
   ],
   "source": [
    "leave_days + 1\n",
    "print(leave_days)"
   ]
  },
  {
   "cell_type": "code",
   "execution_count": 4,
   "id": "e9c7acb1-de43-434e-8a3e-695330b0cb7c",
   "metadata": {
    "tags": []
   },
   "outputs": [
    {
     "name": "stdout",
     "output_type": "stream",
     "text": [
      "1\n"
     ]
    }
   ],
   "source": [
    "# increament the value\n",
    "leave_days +=1\n",
    "print(leave_days)"
   ]
  },
  {
   "cell_type": "code",
   "execution_count": 3,
   "id": "e6dc1a8e-1763-4c38-b619-155468a308d1",
   "metadata": {
    "tags": []
   },
   "outputs": [
    {
     "name": "stdout",
     "output_type": "stream",
     "text": [
      "0\n"
     ]
    }
   ],
   "source": [
    "# decrement the value\n",
    "leave_days -=1\n",
    "print(leave_days)\n"
   ]
  },
  {
   "cell_type": "code",
   "execution_count": 5,
   "id": "f1f21de7-3700-4066-84dc-827c8f9e87a6",
   "metadata": {
    "tags": []
   },
   "outputs": [
    {
     "name": "stdout",
     "output_type": "stream",
     "text": [
      "20\n"
     ]
    }
   ],
   "source": [
    "# if statements\n",
    "leave_days = 21\n",
    "take_leave = True\n",
    "# decided to take leave\n",
    "if take_leave:\n",
    "    leave_days -= 1\n",
    "    print(leave_days)"
   ]
  },
  {
   "cell_type": "code",
   "execution_count": 6,
   "id": "3c4063ca-14f8-483d-8d18-3d6ab41cfbb1",
   "metadata": {
    "tags": []
   },
   "outputs": [
    {
     "name": "stdout",
     "output_type": "stream",
     "text": [
      "22\n"
     ]
    }
   ],
   "source": [
    "leave_days = 21\n",
    "take_leave = True\n",
    "# decided to take leave\n",
    "if take_leave:# condition\n",
    "    leave_days += 1\n",
    "    print(leave_days)"
   ]
  },
  {
   "cell_type": "code",
   "execution_count": 7,
   "id": "dcfd4232-127b-4c77-a620-3cc5f5660483",
   "metadata": {
    "tags": []
   },
   "outputs": [
    {
     "name": "stdout",
     "output_type": "stream",
     "text": [
      "you can have Id\n"
     ]
    }
   ],
   "source": [
    "age = 20\n",
    "if age > 18: # condition\n",
    "    print(\"you can have Id\")"
   ]
  },
  {
   "cell_type": "code",
   "execution_count": 8,
   "id": "425bfc0b-e744-4201-90ac-f7465c8265c5",
   "metadata": {
    "tags": []
   },
   "outputs": [
    {
     "data": {
      "text/plain": [
       "True"
      ]
     },
     "execution_count": 8,
     "metadata": {},
     "output_type": "execute_result"
    }
   ],
   "source": [
    "# condition\n",
    "age >18"
   ]
  },
  {
   "cell_type": "code",
   "execution_count": 8,
   "id": "4e733a10-9f4e-4793-91cb-243c416387b2",
   "metadata": {
    "tags": []
   },
   "outputs": [
    {
     "name": "stdout",
     "output_type": "stream",
     "text": [
      "pass\n"
     ]
    }
   ],
   "source": [
    "score = 45\n",
    "if score > 40:\n",
    "    outcome = \"pass\"\n",
    "    print(outcome)\n",
    "\n"
   ]
  },
  {
   "cell_type": "code",
   "execution_count": 12,
   "id": "b0be15f7-6815-49ce-bea1-3f6d3aa908e1",
   "metadata": {
    "tags": []
   },
   "outputs": [
    {
     "name": "stdout",
     "output_type": "stream",
     "text": [
      "pass\n"
     ]
    }
   ],
   "source": [
    "score = 45\n",
    "if score > 40:\n",
    " outcome = \"pass\"# code to execute if statement is true\n",
    " print(outcome)\n",
    "else:\n",
    "    outcome = \"Fail\"\n",
    "    print(outcome)"
   ]
  },
  {
   "cell_type": "code",
   "execution_count": 13,
   "id": "cb0aae7d-6a8c-48da-bfb8-9443974fb626",
   "metadata": {
    "tags": []
   },
   "outputs": [
    {
     "name": "stdout",
     "output_type": "stream",
     "text": [
      "Fail\n"
     ]
    }
   ],
   "source": [
    "score = 30\n",
    "if score > 40:\n",
    " outcome = \"pass\"# code to execute if statement is true\n",
    " print(outcome)\n",
    "else:\n",
    "    outcome = \"Fail\"\n",
    "    print(outcome)"
   ]
  },
  {
   "cell_type": "code",
   "execution_count": null,
   "id": "201d10fe-d661-433b-b473-30756ea0eb78",
   "metadata": {},
   "outputs": [],
   "source": []
  },
  {
   "cell_type": "code",
   "execution_count": 7,
   "id": "ba67885d-8a9f-4ae7-aa3a-21c40e1feb1f",
   "metadata": {
    "tags": []
   },
   "outputs": [
    {
     "name": "stdout",
     "output_type": "stream",
     "text": [
      "boy\n"
     ]
    }
   ],
   "source": [
    "age = 12\n",
    "gender = \"male\"\n",
    "if (age < 18) and gender ==\"male\": # both the two conditions must be true\n",
    "    print(\"boy\")"
   ]
  },
  {
   "cell_type": "code",
   "execution_count": 12,
   "id": "ef29ea57-e4b5-4947-b3f8-9e1e04874f4b",
   "metadata": {
    "tags": []
   },
   "outputs": [
    {
     "name": "stdout",
     "output_type": "stream",
     "text": [
      "D\n"
     ]
    }
   ],
   "source": [
    "# grades\n",
    "grade = 67\n",
    "if grade >= 40:\n",
    "    grade = \"D\"\n",
    "    print(grade)"
   ]
  },
  {
   "cell_type": "code",
   "execution_count": 6,
   "id": "854164ef-8a82-41d0-9fe2-af053eee69e8",
   "metadata": {
    "tags": []
   },
   "outputs": [
    {
     "name": "stdout",
     "output_type": "stream",
     "text": [
      "you can go into the bouncing castle\n"
     ]
    }
   ],
   "source": [
    "# OR\n",
    "#just like and is used to join conditions\n",
    "#atleast one condition must be True\n",
    "height = 45\n",
    "weight = 60\n",
    "if (height < 40) or (weight > 50): # condition is True if either condition is met\n",
    "    print(\"you can go into the bouncing castle\")"
   ]
  },
  {
   "cell_type": "code",
   "execution_count": null,
   "id": "3d9c80b7-03fd-47dd-adc1-11943d74ced4",
   "metadata": {},
   "outputs": [],
   "source": [
    "height = 65\n",
    "weight = 90\n",
    "if (height < 40) or (weight < 50):\n",
    "else: # else statement will be executed if both the conditions above are false    \n",
    "    print(\"you can go into the bouncing castle\")\n",
    "    "
   ]
  },
  {
   "cell_type": "code",
   "execution_count": 17,
   "id": "8b547a6e-d1d3-41b1-8645-9465c9806f1c",
   "metadata": {
    "tags": []
   },
   "outputs": [
    {
     "name": "stdout",
     "output_type": "stream",
     "text": [
      "67\n"
     ]
    }
   ],
   "source": [
    "\n",
    "# elif statement (else if)\n",
    "grade = 67\n",
    "if grade >= 40:\n",
    "    print(grade)\n",
    "elif grade > 40 and (grade <= 50):\n",
    "    grade = 'C'\n",
    "    print(grade)"
   ]
  },
  {
   "cell_type": "code",
   "execution_count": 19,
   "id": "98e51f3c-0f2a-4871-9083-e50d0e63a35c",
   "metadata": {
    "tags": []
   },
   "outputs": [
    {
     "name": "stdout",
     "output_type": "stream",
     "text": [
      "B\n"
     ]
    }
   ],
   "source": [
    "if grade >= 40 and (grade < 50):\n",
    "    grade = 'D'\n",
    "    print(grade)\n",
    "    # elif statement (else if)\n",
    "\n",
    "elif (grade >=50) and (grade < 60):\n",
    "    grade = 'C'\n",
    "    print(grade)\n",
    "    \n",
    "elif (grade >= 60) and (grade < 70):\n",
    "    grade = 'B'\n",
    "    print(grade)\n",
    "    \n",
    "elif (grade >= 70):\n",
    "    grade = 'A'\n",
    "    print(grade)\n",
    "    \n",
    "else:\n",
    "    print('Fail')\n",
    "    "
   ]
  },
  {
   "cell_type": "markdown",
   "id": "f52a316b-a169-47ea-a2d2-a1ab9bb46ac7",
   "metadata": {},
   "source": [
    "Assignment\n",
    "1. Write a programme that determines whether a number is even or odd. print a message indicating whether the number is even or odd\n",
    "\n",
    "2. Write a programme that checks if a given year is a leap year. A leap year is divisible by 4 but not divisible by 100, except if it is divisible by 400\n",
    "\n",
    "3. Write a programme that will use age to determine the price of a movie theatre \n",
    "   Age < 13 price Kshs 400\n",
    "   13<= Age <= 17 Kshs 600\n",
    "   18 <= Age 65 <= Kshs 800\n",
    "   age > 65 Kshs 350"
   ]
  },
  {
   "cell_type": "code",
   "execution_count": 4,
   "id": "b5f83da7-6ceb-476c-8e62-e1a791b2a184",
   "metadata": {},
   "outputs": [
    {
     "name": "stdout",
     "output_type": "stream",
     "text": [
      "even\n"
     ]
    }
   ],
   "source": [
    "x = 2\n",
    "if (x % 2 == 0):\n",
    "    print(\"even\")\n",
    "else:\n",
    "    print(\"odd\")"
   ]
  },
  {
   "cell_type": "code",
   "execution_count": 11,
   "id": "d03600a8-4c15-4274-bf74-a0ed8eccde64",
   "metadata": {
    "tags": []
   },
   "outputs": [
    {
     "name": "stdout",
     "output_type": "stream",
     "text": [
      "not leap year\n"
     ]
    }
   ],
   "source": [
    "year = 1998\n",
    "if (year % 4 == 0) and (year % 100!= 0) or (year %400 == 0):\n",
    "    print(\"leap year\")\n",
    "else:\n",
    "    print(\"not leap year\")"
   ]
  },
  {
   "cell_type": "code",
   "execution_count": 15,
   "id": "8371303c-c236-488d-a1e2-45ecfe69e8e5",
   "metadata": {
    "tags": []
   },
   "outputs": [
    {
     "name": "stdout",
     "output_type": "stream",
     "text": [
      "Kshs 800\n"
     ]
    }
   ],
   "source": [
    "age = 30\n",
    "if (age < 13):\n",
    "    price = (\"Kshs 400\")\n",
    "    print(price)\n",
    "             \n",
    "elif (age >= 13 and age <=17):\n",
    "    price = (\"Kshs 600\")\n",
    "    print(price)\n",
    "    \n",
    "elif (age >= 18 and age <= 65):\n",
    "    price = (\"Kshs 800\")\n",
    "    print(price)\n",
    "    \n",
    "elif (age > 65):\n",
    "    price = (\"Kshs 350\")\n",
    "    print(price)\n",
    "\n",
    "             "
   ]
  },
  {
   "cell_type": "code",
   "execution_count": null,
   "id": "6764210f-ea43-4eb5-86a4-a3eb7b18a58a",
   "metadata": {},
   "outputs": [],
   "source": []
  }
 ],
 "metadata": {
  "kernelspec": {
   "display_name": "Python 3 (ipykernel)",
   "language": "python",
   "name": "python3"
  },
  "language_info": {
   "codemirror_mode": {
    "name": "ipython",
    "version": 3
   },
   "file_extension": ".py",
   "mimetype": "text/x-python",
   "name": "python",
   "nbconvert_exporter": "python",
   "pygments_lexer": "ipython3",
   "version": "3.11.3"
  }
 },
 "nbformat": 4,
 "nbformat_minor": 5
}
