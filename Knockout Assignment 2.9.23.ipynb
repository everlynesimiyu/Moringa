{
 "cells": [
  {
   "cell_type": "code",
   "execution_count": 1,
   "id": "721c1ca2-1cd5-4f2a-a5e4-38d1aea3ae7e",
   "metadata": {
    "tags": []
   },
   "outputs": [],
   "source": [
    "import pandas as pd"
   ]
  },
  {
   "cell_type": "code",
   "execution_count": 2,
   "id": "bc3926ae-76c8-4276-9401-3eff7790f807",
   "metadata": {},
   "outputs": [],
   "source": [
    "import numpy as np"
   ]
  },
  {
   "cell_type": "code",
   "execution_count": 3,
   "id": "ac5fd7f0-0122-460b-a04a-d74aafa285b7",
   "metadata": {
    "tags": []
   },
   "outputs": [],
   "source": [
    "# generate 120 random numbers btwn Kshs. 4000 and 20000 using numpy\n",
    "random_numbers = np.random.randint(4000, 20000, size=120)"
   ]
  },
  {
   "cell_type": "code",
   "execution_count": 4,
   "id": "62a80963-f729-485d-ab93-36633d197298",
   "metadata": {
    "tags": []
   },
   "outputs": [
    {
     "data": {
      "text/plain": [
       "array([10119, 12720, 16304, 18859,  4285, 18820, 18022,  8186, 18266,\n",
       "        7193, 17782, 17767, 15307, 10643,  4676, 12988, 11897, 17202,\n",
       "        7554, 17787,  4857,  4793, 13731, 11903,  6639, 11422, 11180,\n",
       "        5933,  6531, 15245, 17214, 16415,  8682,  6004, 13592, 14248,\n",
       "       14137, 18828, 14860,  5987, 11039, 17381, 13968,  4474, 16979,\n",
       "        5967, 16298, 15249, 10892,  7039, 13669, 11647, 13889, 12490,\n",
       "        4112, 17259, 18053,  7674, 12596,  9211, 11629,  9737,  5306,\n",
       "        8624, 10258,  6180, 16235,  7293, 13245, 19824,  7416, 16279,\n",
       "       16343, 10083,  8438, 17513, 13525, 13779, 14418,  9720, 19711,\n",
       "        5399, 14327, 10307, 10010,  4546,  4764,  4467,  7764,  9734,\n",
       "       10330,  9493, 15472, 16254, 11514, 15029, 12088,  5841, 15139,\n",
       "       12255, 12457, 16865,  5400,  6029, 16622, 16165,  6925, 12791,\n",
       "       15394,  4305, 14359, 10796, 19753, 11592,  6610, 18555, 19274,\n",
       "        7680, 19389, 18961])"
      ]
     },
     "execution_count": 4,
     "metadata": {},
     "output_type": "execute_result"
    }
   ],
   "source": [
    "# display random numbers\n",
    "random_numbers"
   ]
  },
  {
   "cell_type": "code",
   "execution_count": 5,
   "id": "15fa96d7-9bcf-424c-ab29-5cfd050c41f1",
   "metadata": {
    "tags": []
   },
   "outputs": [
    {
     "data": {
      "text/plain": [
       "numpy.ndarray"
      ]
     },
     "execution_count": 5,
     "metadata": {},
     "output_type": "execute_result"
    }
   ],
   "source": [
    "type(random_numbers)"
   ]
  },
  {
   "cell_type": "code",
   "execution_count": 6,
   "id": "a8ba3022-a53c-496d-be61-6be94ebab406",
   "metadata": {
    "tags": []
   },
   "outputs": [
    {
     "data": {
      "text/plain": [
       "0      10119\n",
       "1      12720\n",
       "2      16304\n",
       "3      18859\n",
       "4       4285\n",
       "       ...  \n",
       "115    18555\n",
       "116    19274\n",
       "117     7680\n",
       "118    19389\n",
       "119    18961\n",
       "Name: Numbers, Length: 120, dtype: int32"
      ]
     },
     "execution_count": 6,
     "metadata": {},
     "output_type": "execute_result"
    }
   ],
   "source": [
    "# creating a series\n",
    "houseprices = pd.Series(random_numbers, name=\"Numbers\")\n",
    "houseprices"
   ]
  },
  {
   "cell_type": "code",
   "execution_count": null,
   "id": "bb1ca150-cdb1-451e-a71d-71c87a64c062",
   "metadata": {},
   "outputs": [],
   "source": []
  },
  {
   "cell_type": "code",
   "execution_count": 7,
   "id": "0e0316b5-7187-4efb-90e7-ddb6843d9202",
   "metadata": {
    "tags": []
   },
   "outputs": [
    {
     "data": {
      "text/plain": [
       "0    10119\n",
       "1    12720\n",
       "2    16304\n",
       "3    18859\n",
       "4     4285\n",
       "Name: Numbers, dtype: int32"
      ]
     },
     "execution_count": 7,
     "metadata": {},
     "output_type": "execute_result"
    }
   ],
   "source": [
    "houseprices.head()"
   ]
  },
  {
   "cell_type": "code",
   "execution_count": 8,
   "id": "12b7c25f-fa02-4cc2-9a40-b041e5524913",
   "metadata": {
    "tags": []
   },
   "outputs": [
    {
     "data": {
      "text/plain": [
       "0    10119\n",
       "1    12720\n",
       "2    16304\n",
       "3    18859\n",
       "4     4285\n",
       "5    18820\n",
       "6    18022\n",
       "Name: Numbers, dtype: int32"
      ]
     },
     "execution_count": 8,
     "metadata": {},
     "output_type": "execute_result"
    }
   ],
   "source": [
    "houseprices.head(7)"
   ]
  },
  {
   "cell_type": "code",
   "execution_count": 9,
   "id": "0899aec0-9c2a-4427-8fad-93a906429da8",
   "metadata": {
    "tags": []
   },
   "outputs": [
    {
     "data": {
      "text/plain": [
       "0    10119\n",
       "1    12720\n",
       "2    16304\n",
       "3    18859\n",
       "4     4285\n",
       "5    18820\n",
       "6    18022\n",
       "Name: Numbers, dtype: int32"
      ]
     },
     "execution_count": 9,
     "metadata": {},
     "output_type": "execute_result"
    }
   ],
   "source": [
    "# display the first 7 houses\n",
    "houseprices.head(7)"
   ]
  },
  {
   "cell_type": "code",
   "execution_count": 10,
   "id": "472f72b6-2473-4f08-8cab-e062583ec062",
   "metadata": {},
   "outputs": [
    {
     "data": {
      "text/plain": [
       "7       8186\n",
       "8      18266\n",
       "9       7193\n",
       "10     17782\n",
       "11     17767\n",
       "       ...  \n",
       "115    18555\n",
       "116    19274\n",
       "117     7680\n",
       "118    19389\n",
       "119    18961\n",
       "Name: Numbers, Length: 113, dtype: int32"
      ]
     },
     "execution_count": 10,
     "metadata": {},
     "output_type": "execute_result"
    }
   ],
   "source": [
    "# display the last 7 houses\n",
    "houseprices.tail(-7)"
   ]
  },
  {
   "cell_type": "code",
   "execution_count": 11,
   "id": "5c032feb-db08-4014-b76b-2aabbe66d457",
   "metadata": {},
   "outputs": [],
   "source": [
    "# creating a function that will take in the price of the house and returning the category\n",
    "def house_category(price):\n",
    "    if price >= 15000:\n",
    "        return \"High Class\"\n",
    "    elif price >=10000:\n",
    "        return \"Middle Class\"\n",
    "    else:\n",
    "        return \"slum\"\n",
    "    "
   ]
  },
  {
   "cell_type": "code",
   "execution_count": 12,
   "id": "a357f78d-7d3c-4790-8f90-75f9c8537f4c",
   "metadata": {
    "tags": []
   },
   "outputs": [
    {
     "data": {
      "text/plain": [
       "'High Class'"
      ]
     },
     "execution_count": 12,
     "metadata": {},
     "output_type": "execute_result"
    }
   ],
   "source": [
    "# testing the function\n",
    "x = house_category(16000)\n",
    "x"
   ]
  },
  {
   "cell_type": "code",
   "execution_count": 13,
   "id": "89f3ee11-a934-4100-8df3-03947b07b859",
   "metadata": {
    "tags": []
   },
   "outputs": [
    {
     "data": {
      "text/plain": [
       "'slum'"
      ]
     },
     "execution_count": 13,
     "metadata": {},
     "output_type": "execute_result"
    }
   ],
   "source": [
    "# testing the function\n",
    "x = house_category(4000)\n",
    "x"
   ]
  },
  {
   "cell_type": "code",
   "execution_count": 14,
   "id": "9e599f1a-90b0-42f9-899f-21d1a0aefe50",
   "metadata": {
    "tags": []
   },
   "outputs": [
    {
     "data": {
      "text/plain": [
       "'Middle Class'"
      ]
     },
     "execution_count": 14,
     "metadata": {},
     "output_type": "execute_result"
    }
   ],
   "source": [
    "# testing the function\n",
    "x = house_category(11000)\n",
    "x\n"
   ]
  },
  {
   "cell_type": "code",
   "execution_count": 15,
   "id": "824c389c-7a07-4ac7-9e7d-5ffd5f5239c5",
   "metadata": {
    "tags": []
   },
   "outputs": [
    {
     "data": {
      "text/plain": [
       "0      Middle Class\n",
       "1      Middle Class\n",
       "2        High Class\n",
       "3        High Class\n",
       "4              slum\n",
       "           ...     \n",
       "115      High Class\n",
       "116      High Class\n",
       "117            slum\n",
       "118      High Class\n",
       "119      High Class\n",
       "Name: Numbers, Length: 120, dtype: object"
      ]
     },
     "execution_count": 15,
     "metadata": {},
     "output_type": "execute_result"
    }
   ],
   "source": [
    "# applying the function created above to the series\n",
    "house_categories = pd.Series(houseprices).apply(house_category)\n",
    "house_categories                  "
   ]
  },
  {
   "cell_type": "code",
   "execution_count": 16,
   "id": "af3f52db-253d-40e4-b7ac-620171d724f7",
   "metadata": {
    "tags": []
   },
   "outputs": [
    {
     "data": {
      "text/plain": [
       "0      11130.9\n",
       "1      13992.0\n",
       "2      17934.4\n",
       "3      20744.9\n",
       "4       4713.5\n",
       "        ...   \n",
       "115    20410.5\n",
       "116    21201.4\n",
       "117     8448.0\n",
       "118    21327.9\n",
       "119    20857.1\n",
       "Name: Numbers, Length: 120, dtype: float64"
      ]
     },
     "execution_count": 16,
     "metadata": {},
     "output_type": "execute_result"
    }
   ],
   "source": [
    "house_taxed_price = pd.Series(houseprices).apply(lambda price:price*1.10) \n",
    "house_taxed_price"
   ]
  },
  {
   "cell_type": "code",
   "execution_count": 17,
   "id": "e2c482e4-50e0-46b2-9138-ec1fa5d1707f",
   "metadata": {
    "tags": []
   },
   "outputs": [
    {
     "data": {
      "text/plain": [
       "0      10369\n",
       "1      12970\n",
       "2      16554\n",
       "3      19109\n",
       "4       4535\n",
       "       ...  \n",
       "115    18805\n",
       "116    19524\n",
       "117     7930\n",
       "118    19639\n",
       "119    19211\n",
       "Name: Numbers, Length: 120, dtype: int64"
      ]
     },
     "execution_count": 17,
     "metadata": {},
     "output_type": "execute_result"
    }
   ],
   "source": [
    "houses_garbage = pd.Series(houseprices).apply(lambda price:price+250) \n",
    "houses_garbage"
   ]
  },
  {
   "cell_type": "code",
   "execution_count": 29,
   "id": "efb83a59-e2a6-4ee7-82d3-cc7cc4b54f47",
   "metadata": {
    "tags": []
   },
   "outputs": [
    {
     "data": {
      "text/plain": [
       "{'Houses Prices': 0      10119\n",
       " 1      12720\n",
       " 2      16304\n",
       " 3      18859\n",
       " 4       4285\n",
       "        ...  \n",
       " 115    18555\n",
       " 116    19274\n",
       " 117     7680\n",
       " 118    19389\n",
       " 119    18961\n",
       " Name: Numbers, Length: 120, dtype: int32,\n",
       " 'Taxed Prices': 0      11130.9\n",
       " 1      13992.0\n",
       " 2      17934.4\n",
       " 3      20744.9\n",
       " 4       4713.5\n",
       "         ...   \n",
       " 115    20410.5\n",
       " 116    21201.4\n",
       " 117     8448.0\n",
       " 118    21327.9\n",
       " 119    20857.1\n",
       " Name: Numbers, Length: 120, dtype: float64,\n",
       " 'Garbage Added': 0      10369\n",
       " 1      12970\n",
       " 2      16554\n",
       " 3      19109\n",
       " 4       4535\n",
       "        ...  \n",
       " 115    18805\n",
       " 116    19524\n",
       " 117     7930\n",
       " 118    19639\n",
       " 119    19211\n",
       " Name: Numbers, Length: 120, dtype: int64,\n",
       " 'House Category': 0      Middle Class\n",
       " 1      Middle Class\n",
       " 2        High Class\n",
       " 3        High Class\n",
       " 4              slum\n",
       "            ...     \n",
       " 115      High Class\n",
       " 116      High Class\n",
       " 117            slum\n",
       " 118      High Class\n",
       " 119      High Class\n",
       " Name: Numbers, Length: 120, dtype: object}"
      ]
     },
     "execution_count": 29,
     "metadata": {},
     "output_type": "execute_result"
    }
   ],
   "source": [
    "data = { \"Houses Prices\": houseprices ,\n",
    "        \"Taxed Prices\": house_taxed_price ,\n",
    "        \"Garbage Added\" :houses_garbage,\n",
    "        \"House Category\": house_categories\n",
    "       \n",
    "       }\n",
    "\n",
    "data"
   ]
  },
  {
   "cell_type": "code",
   "execution_count": 30,
   "id": "1acc1569-4ffb-49b7-88b7-2fb6475e04f3",
   "metadata": {
    "tags": []
   },
   "outputs": [],
   "source": [
    "moringa = pd.DataFrame(data)"
   ]
  },
  {
   "cell_type": "code",
   "execution_count": 31,
   "id": "d25c0f35-5f85-40c1-82ba-c94f71241fbc",
   "metadata": {
    "tags": []
   },
   "outputs": [
    {
     "data": {
      "text/html": [
       "<div>\n",
       "<style scoped>\n",
       "    .dataframe tbody tr th:only-of-type {\n",
       "        vertical-align: middle;\n",
       "    }\n",
       "\n",
       "    .dataframe tbody tr th {\n",
       "        vertical-align: top;\n",
       "    }\n",
       "\n",
       "    .dataframe thead th {\n",
       "        text-align: right;\n",
       "    }\n",
       "</style>\n",
       "<table border=\"1\" class=\"dataframe\">\n",
       "  <thead>\n",
       "    <tr style=\"text-align: right;\">\n",
       "      <th></th>\n",
       "      <th>Houses Prices</th>\n",
       "      <th>Taxed Prices</th>\n",
       "      <th>Garbage Added</th>\n",
       "      <th>House Category</th>\n",
       "    </tr>\n",
       "  </thead>\n",
       "  <tbody>\n",
       "    <tr>\n",
       "      <th>0</th>\n",
       "      <td>10119</td>\n",
       "      <td>11130.9</td>\n",
       "      <td>10369</td>\n",
       "      <td>Middle Class</td>\n",
       "    </tr>\n",
       "    <tr>\n",
       "      <th>1</th>\n",
       "      <td>12720</td>\n",
       "      <td>13992.0</td>\n",
       "      <td>12970</td>\n",
       "      <td>Middle Class</td>\n",
       "    </tr>\n",
       "    <tr>\n",
       "      <th>2</th>\n",
       "      <td>16304</td>\n",
       "      <td>17934.4</td>\n",
       "      <td>16554</td>\n",
       "      <td>High Class</td>\n",
       "    </tr>\n",
       "    <tr>\n",
       "      <th>3</th>\n",
       "      <td>18859</td>\n",
       "      <td>20744.9</td>\n",
       "      <td>19109</td>\n",
       "      <td>High Class</td>\n",
       "    </tr>\n",
       "    <tr>\n",
       "      <th>4</th>\n",
       "      <td>4285</td>\n",
       "      <td>4713.5</td>\n",
       "      <td>4535</td>\n",
       "      <td>slum</td>\n",
       "    </tr>\n",
       "    <tr>\n",
       "      <th>...</th>\n",
       "      <td>...</td>\n",
       "      <td>...</td>\n",
       "      <td>...</td>\n",
       "      <td>...</td>\n",
       "    </tr>\n",
       "    <tr>\n",
       "      <th>115</th>\n",
       "      <td>18555</td>\n",
       "      <td>20410.5</td>\n",
       "      <td>18805</td>\n",
       "      <td>High Class</td>\n",
       "    </tr>\n",
       "    <tr>\n",
       "      <th>116</th>\n",
       "      <td>19274</td>\n",
       "      <td>21201.4</td>\n",
       "      <td>19524</td>\n",
       "      <td>High Class</td>\n",
       "    </tr>\n",
       "    <tr>\n",
       "      <th>117</th>\n",
       "      <td>7680</td>\n",
       "      <td>8448.0</td>\n",
       "      <td>7930</td>\n",
       "      <td>slum</td>\n",
       "    </tr>\n",
       "    <tr>\n",
       "      <th>118</th>\n",
       "      <td>19389</td>\n",
       "      <td>21327.9</td>\n",
       "      <td>19639</td>\n",
       "      <td>High Class</td>\n",
       "    </tr>\n",
       "    <tr>\n",
       "      <th>119</th>\n",
       "      <td>18961</td>\n",
       "      <td>20857.1</td>\n",
       "      <td>19211</td>\n",
       "      <td>High Class</td>\n",
       "    </tr>\n",
       "  </tbody>\n",
       "</table>\n",
       "<p>120 rows × 4 columns</p>\n",
       "</div>"
      ],
      "text/plain": [
       "     Houses Prices  Taxed Prices  Garbage Added House Category\n",
       "0            10119       11130.9          10369   Middle Class\n",
       "1            12720       13992.0          12970   Middle Class\n",
       "2            16304       17934.4          16554     High Class\n",
       "3            18859       20744.9          19109     High Class\n",
       "4             4285        4713.5           4535           slum\n",
       "..             ...           ...            ...            ...\n",
       "115          18555       20410.5          18805     High Class\n",
       "116          19274       21201.4          19524     High Class\n",
       "117           7680        8448.0           7930           slum\n",
       "118          19389       21327.9          19639     High Class\n",
       "119          18961       20857.1          19211     High Class\n",
       "\n",
       "[120 rows x 4 columns]"
      ]
     },
     "execution_count": 31,
     "metadata": {},
     "output_type": "execute_result"
    }
   ],
   "source": [
    "moringa"
   ]
  },
  {
   "cell_type": "code",
   "execution_count": 32,
   "id": "f3fce647-1e32-44ec-9b66-ae2bd8ecb9a7",
   "metadata": {
    "tags": []
   },
   "outputs": [
    {
     "data": {
      "text/html": [
       "<div>\n",
       "<style scoped>\n",
       "    .dataframe tbody tr th:only-of-type {\n",
       "        vertical-align: middle;\n",
       "    }\n",
       "\n",
       "    .dataframe tbody tr th {\n",
       "        vertical-align: top;\n",
       "    }\n",
       "\n",
       "    .dataframe thead th {\n",
       "        text-align: right;\n",
       "    }\n",
       "</style>\n",
       "<table border=\"1\" class=\"dataframe\">\n",
       "  <thead>\n",
       "    <tr style=\"text-align: right;\">\n",
       "      <th></th>\n",
       "      <th>Houses Prices</th>\n",
       "      <th>Taxed Prices</th>\n",
       "      <th>Garbage Added</th>\n",
       "      <th>House Category</th>\n",
       "    </tr>\n",
       "  </thead>\n",
       "  <tbody>\n",
       "    <tr>\n",
       "      <th>0</th>\n",
       "      <td>10119</td>\n",
       "      <td>11130.9</td>\n",
       "      <td>10369</td>\n",
       "      <td>Middle Class</td>\n",
       "    </tr>\n",
       "    <tr>\n",
       "      <th>1</th>\n",
       "      <td>12720</td>\n",
       "      <td>13992.0</td>\n",
       "      <td>12970</td>\n",
       "      <td>Middle Class</td>\n",
       "    </tr>\n",
       "    <tr>\n",
       "      <th>2</th>\n",
       "      <td>16304</td>\n",
       "      <td>17934.4</td>\n",
       "      <td>16554</td>\n",
       "      <td>High Class</td>\n",
       "    </tr>\n",
       "    <tr>\n",
       "      <th>3</th>\n",
       "      <td>18859</td>\n",
       "      <td>20744.9</td>\n",
       "      <td>19109</td>\n",
       "      <td>High Class</td>\n",
       "    </tr>\n",
       "    <tr>\n",
       "      <th>4</th>\n",
       "      <td>4285</td>\n",
       "      <td>4713.5</td>\n",
       "      <td>4535</td>\n",
       "      <td>slum</td>\n",
       "    </tr>\n",
       "    <tr>\n",
       "      <th>5</th>\n",
       "      <td>18820</td>\n",
       "      <td>20702.0</td>\n",
       "      <td>19070</td>\n",
       "      <td>High Class</td>\n",
       "    </tr>\n",
       "    <tr>\n",
       "      <th>6</th>\n",
       "      <td>18022</td>\n",
       "      <td>19824.2</td>\n",
       "      <td>18272</td>\n",
       "      <td>High Class</td>\n",
       "    </tr>\n",
       "  </tbody>\n",
       "</table>\n",
       "</div>"
      ],
      "text/plain": [
       "   Houses Prices  Taxed Prices  Garbage Added House Category\n",
       "0          10119       11130.9          10369   Middle Class\n",
       "1          12720       13992.0          12970   Middle Class\n",
       "2          16304       17934.4          16554     High Class\n",
       "3          18859       20744.9          19109     High Class\n",
       "4           4285        4713.5           4535           slum\n",
       "5          18820       20702.0          19070     High Class\n",
       "6          18022       19824.2          18272     High Class"
      ]
     },
     "execution_count": 32,
     "metadata": {},
     "output_type": "execute_result"
    }
   ],
   "source": [
    "moringa.head(7)"
   ]
  },
  {
   "cell_type": "code",
   "execution_count": 33,
   "id": "52fdc6d3-2eb0-4d8d-b78b-08c93cd4efcf",
   "metadata": {
    "tags": []
   },
   "outputs": [
    {
     "data": {
      "text/html": [
       "<div>\n",
       "<style scoped>\n",
       "    .dataframe tbody tr th:only-of-type {\n",
       "        vertical-align: middle;\n",
       "    }\n",
       "\n",
       "    .dataframe tbody tr th {\n",
       "        vertical-align: top;\n",
       "    }\n",
       "\n",
       "    .dataframe thead th {\n",
       "        text-align: right;\n",
       "    }\n",
       "</style>\n",
       "<table border=\"1\" class=\"dataframe\">\n",
       "  <thead>\n",
       "    <tr style=\"text-align: right;\">\n",
       "      <th></th>\n",
       "      <th>Houses Prices</th>\n",
       "      <th>Taxed Prices</th>\n",
       "      <th>Garbage Added</th>\n",
       "      <th>House Category</th>\n",
       "    </tr>\n",
       "  </thead>\n",
       "  <tbody>\n",
       "    <tr>\n",
       "      <th>113</th>\n",
       "      <td>11592</td>\n",
       "      <td>12751.2</td>\n",
       "      <td>11842</td>\n",
       "      <td>Middle Class</td>\n",
       "    </tr>\n",
       "    <tr>\n",
       "      <th>114</th>\n",
       "      <td>6610</td>\n",
       "      <td>7271.0</td>\n",
       "      <td>6860</td>\n",
       "      <td>slum</td>\n",
       "    </tr>\n",
       "    <tr>\n",
       "      <th>115</th>\n",
       "      <td>18555</td>\n",
       "      <td>20410.5</td>\n",
       "      <td>18805</td>\n",
       "      <td>High Class</td>\n",
       "    </tr>\n",
       "    <tr>\n",
       "      <th>116</th>\n",
       "      <td>19274</td>\n",
       "      <td>21201.4</td>\n",
       "      <td>19524</td>\n",
       "      <td>High Class</td>\n",
       "    </tr>\n",
       "    <tr>\n",
       "      <th>117</th>\n",
       "      <td>7680</td>\n",
       "      <td>8448.0</td>\n",
       "      <td>7930</td>\n",
       "      <td>slum</td>\n",
       "    </tr>\n",
       "    <tr>\n",
       "      <th>118</th>\n",
       "      <td>19389</td>\n",
       "      <td>21327.9</td>\n",
       "      <td>19639</td>\n",
       "      <td>High Class</td>\n",
       "    </tr>\n",
       "    <tr>\n",
       "      <th>119</th>\n",
       "      <td>18961</td>\n",
       "      <td>20857.1</td>\n",
       "      <td>19211</td>\n",
       "      <td>High Class</td>\n",
       "    </tr>\n",
       "  </tbody>\n",
       "</table>\n",
       "</div>"
      ],
      "text/plain": [
       "     Houses Prices  Taxed Prices  Garbage Added House Category\n",
       "113          11592       12751.2          11842   Middle Class\n",
       "114           6610        7271.0           6860           slum\n",
       "115          18555       20410.5          18805     High Class\n",
       "116          19274       21201.4          19524     High Class\n",
       "117           7680        8448.0           7930           slum\n",
       "118          19389       21327.9          19639     High Class\n",
       "119          18961       20857.1          19211     High Class"
      ]
     },
     "execution_count": 33,
     "metadata": {},
     "output_type": "execute_result"
    }
   ],
   "source": [
    "moringa.tail(7)"
   ]
  },
  {
   "cell_type": "code",
   "execution_count": null,
   "id": "23d87a1b-c030-4226-887e-30a89bb78619",
   "metadata": {},
   "outputs": [],
   "source": []
  }
 ],
 "metadata": {
  "kernelspec": {
   "display_name": "Python 3 (ipykernel)",
   "language": "python",
   "name": "python3"
  },
  "language_info": {
   "codemirror_mode": {
    "name": "ipython",
    "version": 3
   },
   "file_extension": ".py",
   "mimetype": "text/x-python",
   "name": "python",
   "nbconvert_exporter": "python",
   "pygments_lexer": "ipython3",
   "version": "3.11.3"
  }
 },
 "nbformat": 4,
 "nbformat_minor": 5
}
